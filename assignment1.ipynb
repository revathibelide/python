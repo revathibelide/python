{
 "cells": [
  {
   "cell_type": "code",
   "execution_count": 5,
   "metadata": {},
   "outputs": [
    {
     "name": "stdout",
     "output_type": "stream",
     "text": [
      "enter number0\n",
      "zero\n"
     ]
    }
   ],
   "source": [
    "num = int(input(\"enter number\"))\n",
    "if num > 0:\n",
    " print(\"+ve\")\n",
    "elif num < 0:\n",
    " print(\"-ve\")\n",
    "else:\n",
    " print(\"zero\")"
   ]
  },
  {
   "cell_type": "code",
   "execution_count": 9,
   "metadata": {},
   "outputs": [
    {
     "name": "stdout",
     "output_type": "stream",
     "text": [
      "enter number3\n",
      "odd\n"
     ]
    }
   ],
   "source": [
    "num = int(input(\"enter number\"))\n",
    "if num%2 == 0:\n",
    " print(\"even\")\n",
    "else:\n",
    " print(\"odd\")"
   ]
  },
  {
   "cell_type": "code",
   "execution_count": 12,
   "metadata": {},
   "outputs": [
    {
     "name": "stdout",
     "output_type": "stream",
     "text": [
      "enter the number2\n",
      "non leap\n"
     ]
    }
   ],
   "source": [
    "num=int(input(\"enter the number\"))\n",
    "if (num%400) == 0:\n",
    " print(\"leap year\")\n",
    "elif  (num%100) == 0:\n",
    " print(\"non leap\")\n",
    "elif (num%4) == 0:\n",
    " print(\"leap\")\n",
    "else :\n",
    " print(\"non leap\")"
   ]
  },
  {
   "cell_type": "code",
   "execution_count": 13,
   "metadata": {},
   "outputs": [
    {
     "name": "stdout",
     "output_type": "stream",
     "text": [
      "Enter 1st num 2\n",
      "2nd num 3\n",
      "3rd num 5\n",
      "5 The largest number\n"
     ]
    }
   ],
   "source": [
    "num1 = int(input(\"Enter 1st num \"))\n",
    "num2 = int(input(\"2nd num \"))\n",
    "num3 = int(input(\"3rd num \"))\n",
    " \n",
    "if (num1 > num2) and (num1 > num3):\n",
    "   print(num1,\"The largest number\")\n",
    "elif (num2 > num1) and (num2 > num3):\n",
    "   print(num2,\"The largest number\")\n",
    "else:\n",
    "   print(num3,\"The largest number\")"
   ]
  },
  {
   "cell_type": "code",
   "execution_count": 1,
   "metadata": {},
   "outputs": [
    {
     "name": "stdout",
     "output_type": "stream",
     "text": [
      "enter a month:jan\n",
      "31\n"
     ]
    }
   ],
   "source": [
    "month = input(\"enter a month:\")\n",
    "if month == \"feb\":\n",
    " print (\"28/29\")\n",
    "elif month in (\"jan\",\"march\",\"may\",\"jul\",\"aug\",\"oct\",\"dec\"):\n",
    " print(\"31\")\n",
    "elif month in(\"apr\",\"june\",\"sep\",\"nov\"):\n",
    " print (\"30\")\n",
    "else:\n",
    " print(\"enter valid month\")"
   ]
  },
  {
   "cell_type": "code",
   "execution_count": 2,
   "metadata": {},
   "outputs": [
    {
     "name": "stdout",
     "output_type": "stream",
     "text": [
      "Enter a number: 5\n",
      "5 is a prime number\n"
     ]
    }
   ],
   "source": [
    "num = int(input(\"Enter a number: \"))\n",
    "if num > 1:  \n",
    "   for i in range(2,num):  \n",
    "       if (num % i) == 0:  \n",
    "           print(num,\"is not a prime number\")  \n",
    "           break  \n",
    "   else:  \n",
    "       print(num,\"is a prime number\")        \n",
    "else:  \n",
    "   print(num,\"is not a prime number\")"
   ]
  },
  {
   "cell_type": "code",
   "execution_count": 3,
   "metadata": {},
   "outputs": [
    {
     "name": "stdout",
     "output_type": "stream",
     "text": [
      "enter 1st num5\n",
      "enter 2nd num6\n",
      "5\n"
     ]
    }
   ],
   "source": [
    "min = int(input(\"enter 1st num\"))\n",
    "max = int(input(\"enter 2nd num\"))\n",
    "\n",
    "for num in range(min,max + 1):\n",
    "    if num > 1:\n",
    "        for i in range(2,num):\n",
    "            if (num%i) == 0:\n",
    "                break\n",
    "        else:\n",
    "         print(num)"
   ]
  },
  {
   "cell_type": "code",
   "execution_count": 4,
   "metadata": {},
   "outputs": [
    {
     "name": "stdout",
     "output_type": "stream",
     "text": [
      "Enter a number: 5\n",
      "The factorial of 5 is 120\n"
     ]
    }
   ],
   "source": [
    "num = int(input(\"Enter a number: \"))\n",
    "\n",
    "factorial = 1\n",
    "\n",
    "if num < 0:\n",
    "   print(\"Sorry, factorial does not exist for negative numbers\")\n",
    "elif num == 0:\n",
    "   print(\"The factorial of 0 is 1\")\n",
    "else:\n",
    "   for i in range(1,num + 1):\n",
    "       factorial = factorial*i\n",
    "   print(\"The factorial of\",num,\"is\",factorial)"
   ]
  },
  {
   "cell_type": "code",
   "execution_count": 5,
   "metadata": {},
   "outputs": [
    {
     "name": "stdout",
     "output_type": "stream",
     "text": [
      "Display multiplication table of? 5\n",
      "5 x 1 = 5\n",
      "5 x 2 = 10\n",
      "5 x 3 = 15\n",
      "5 x 4 = 20\n",
      "5 x 5 = 25\n",
      "5 x 6 = 30\n",
      "5 x 7 = 35\n",
      "5 x 8 = 40\n",
      "5 x 9 = 45\n",
      "5 x 10 = 50\n"
     ]
    }
   ],
   "source": [
    "num = int(input(\"Display multiplication table of? \"))\n",
    " \n",
    "# use for loop to iterate 10 times\n",
    "for i in range(1,11):\n",
    "   print(num,'x',i,'=',num*i)"
   ]
  },
  {
   "cell_type": "code",
   "execution_count": 2,
   "metadata": {},
   "outputs": [
    {
     "name": "stdout",
     "output_type": "stream",
     "text": [
      "enter number 5\n",
      "\n",
      "fibonacci series is:\n",
      "0 , 1, 1, "
     ]
    }
   ],
   "source": [
    "num = int(input(\"enter number \"))\n",
    " \n",
    "first = 0\n",
    "second = 1\n",
    " \n",
    "print(\"\\nfibonacci series is:\")\n",
    "print(first, \",\", second, end=\", \")\n",
    " \n",
    "for i in range(2, num):\n",
    " next = first + second\n",
    "print(next, end=\", \")\n",
    " \n",
    "first = second\n",
    "second = next"
   ]
  }
 ],
 "metadata": {
  "kernelspec": {
   "display_name": "Python 3",
   "language": "python",
   "name": "python3"
  },
  "language_info": {
   "codemirror_mode": {
    "name": "ipython",
    "version": 3
   },
   "file_extension": ".py",
   "mimetype": "text/x-python",
   "name": "python",
   "nbconvert_exporter": "python",
   "pygments_lexer": "ipython3",
   "version": "3.7.3"
  }
 },
 "nbformat": 4,
 "nbformat_minor": 2
}
